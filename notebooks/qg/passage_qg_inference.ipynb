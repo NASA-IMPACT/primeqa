{
 "cells": [
  {
   "cell_type": "markdown",
   "id": "489bc0df",
   "metadata": {},
   "source": [
    "# TyDI Question Generation: Inference example\n",
    "\n",
    "In this notebook, we will show how to use a pretrained multilingual PassageQG model to generate questions. Given a text snippet, spacy is used to identify noun chunks (named entities) which becomes the answer and an mT5 is used to generate question givent he answer and the text snippet."
   ]
  },
  {
   "cell_type": "markdown",
   "id": "4bbe1173",
   "metadata": {},
   "source": [
    "## Dependencies\n",
    "\n",
    "If not already done, make sure to install PrimeQA with notebooks extras before getting started."
   ]
  },
  {
   "cell_type": "code",
   "execution_count": 2,
   "id": "815cec1c",
   "metadata": {},
   "outputs": [],
   "source": [
    "from primeqa.qg.models.qg_model import QGModel\n",
    "from tabulate import tabulate # only used to visualize table"
   ]
  },
  {
   "cell_type": "markdown",
   "id": "b9f309b8",
   "metadata": {},
   "source": [
    "## Loading pretrained model from huggingface\n",
    "\n",
    "This model was trained using PrimeQA library and uploaded to huggingface hub."
   ]
  },
  {
   "cell_type": "code",
   "execution_count": 3,
   "id": "2a3c5377",
   "metadata": {},
   "outputs": [
    {
     "data": {
      "application/vnd.jupyter.widget-view+json": {
       "model_id": "77b344c78ecc44e7a97d41525d99ece0",
       "version_major": 2,
       "version_minor": 0
      },
      "text/plain": [
       "Downloading:   0%|          | 0.00/702 [00:00<?, ?B/s]"
      ]
     },
     "metadata": {},
     "output_type": "display_data"
    },
    {
     "data": {
      "application/vnd.jupyter.widget-view+json": {
       "model_id": "db6bd2a9fc364252b0b453c8b9c428bb",
       "version_major": 2,
       "version_minor": 0
      },
      "text/plain": [
       "Downloading:   0%|          | 0.00/2.17G [00:00<?, ?B/s]"
      ]
     },
     "metadata": {},
     "output_type": "display_data"
    },
    {
     "data": {
      "application/vnd.jupyter.widget-view+json": {
       "model_id": "ea3c5d409e9b4df08f5396f8c71a6498",
       "version_major": 2,
       "version_minor": 0
      },
      "text/plain": [
       "Downloading:   0%|          | 0.00/408 [00:00<?, ?B/s]"
      ]
     },
     "metadata": {},
     "output_type": "display_data"
    },
    {
     "data": {
      "application/vnd.jupyter.widget-view+json": {
       "model_id": "f0e697b516b64973835c4c2ae0f2fb7f",
       "version_major": 2,
       "version_minor": 0
      },
      "text/plain": [
       "Downloading:   0%|          | 0.00/15.6M [00:00<?, ?B/s]"
      ]
     },
     "metadata": {},
     "output_type": "display_data"
    },
    {
     "data": {
      "application/vnd.jupyter.widget-view+json": {
       "model_id": "daf913c0cb034d48b9ecbabf8bbafca7",
       "version_major": 2,
       "version_minor": 0
      },
      "text/plain": [
       "Downloading:   0%|          | 0.00/103 [00:00<?, ?B/s]"
      ]
     },
     "metadata": {},
     "output_type": "display_data"
    }
   ],
   "source": [
    "model_name = 'ibm/mt5-base-tydi-question-generator'\n",
    "table_qg_model = QGModel(model_name, modality='passage')"
   ]
  },
  {
   "cell_type": "markdown",
   "id": "984e88f0",
   "metadata": {},
   "source": [
    "<br>\n",
    "\n",
    "## Sample instance\n",
    "\n",
    "Passages should be passed a `list` of `str`. We take one English and one Bengali text to generate questions."
   ]
  },
  {
   "cell_type": "code",
   "execution_count": 4,
   "id": "18419939",
   "metadata": {},
   "outputs": [],
   "source": [
    "text_list = [\"Hangul was personally created and promulgated by the fourth king of the Joseon dynasty,\\\n",
    "    Sejong the Great.[1][2] Sejong's scholarly institute, the Hall of Worthies, is often credited with\\\n",
    "    the work, and at least one of its scholars was heavily involved in its creation, but it appears to\\\n",
    "    have also been a personal project of Sejong.\",\n",
    "    \"তারপর উক্ত ৮জনের সাথে আরো কয়েকজনকে একত্র করে ২০ জনের একটি গেরিলা দল গঠন করে তাদের ভারতে বিশেষ ট্রেনিং দেয়া হয়। তারপর\\\n",
    "    তারা দেশে আসলে তাদের সাথে কর্নেল ওসমানীর দেখা করানো হয়। তখন ওসমানী নৌ-কমান্ডো বাহিনী গঠনের সিদ্ধান্ত নেন।\"]"
   ]
  },
  {
   "cell_type": "markdown",
   "id": "b002086c",
   "metadata": {},
   "source": [
    "## Generate questions\n",
    "\n",
    "There is one argument to control number of questions to be generated.\n",
    "#### Controls:\n",
    "- `num_questions_per_instance`: Number of questions to generate per table (default=5)"
   ]
  },
  {
   "cell_type": "code",
   "execution_count": 4,
   "id": "40b38a3f",
   "metadata": {},
   "outputs": [
    {
     "data": {
      "text/plain": [
       "[{'question': 'What position does the player from Butler CC (KS) play?',\n",
       "  'answer': 'guard-forward'},\n",
       " {'question': 'Which Position has a No. of 33.0?', 'answer': 'forward-center'},\n",
       " {'question': 'What school team did Antonio Lang play for?', 'answer': 'duke'},\n",
       " {'question': 'Name the years in toronto for number 32.0',\n",
       "  'answer': '1996-97'},\n",
       " {'question': 'Name the years in toronto for iowa', 'answer': '1996'},\n",
       " {'question': 'What school team did Voshon Lenard play for?',\n",
       "  'answer': 'minnesota'},\n",
       " {'question': 'What is the nationality of the player from Cincinnati?',\n",
       "  'answer': 'united states'},\n",
       " {'question': 'Which player played in Toronto in 1996-97?',\n",
       "  'answer': 'martin lewis'},\n",
       " {'question': 'Which School Team has a No. of 2.0?', 'answer': 'minnesota'},\n",
       " {'question': 'Which player has a number of 33.0?', 'answer': 'brad lohaus'}]"
      ]
     },
     "execution_count": 4,
     "metadata": {},
     "output_type": "execute_result"
    }
   ],
   "source": [
    "table_qg_model.generate_questions(text_list, \n",
    "                                    num_questions_per_instance = 10,\n",
    "                                    agg_prob = [1.,0,0,0,0,0],\n",
    "                                    num_where_prob = [0,1.,0,0,0],\n",
    "                                    ineq_prob = 0.0)"
   ]
  },
  {
   "cell_type": "code",
   "execution_count": null,
   "id": "60b1a1de",
   "metadata": {},
   "outputs": [],
   "source": []
  }
 ],
 "metadata": {
  "interpreter": {
   "hash": "f2837b60cedc613a72d719d2d261dedab01e8683bba6b8605ad579171c0f5b25"
  },
  "kernelspec": {
   "display_name": "Python 3.7.13",
   "language": "python",
   "name": "python3"
  },
  "language_info": {
   "codemirror_mode": {
    "name": "ipython",
    "version": 3
   },
   "file_extension": ".py",
   "mimetype": "text/x-python",
   "name": "python",
   "nbconvert_exporter": "python",
   "pygments_lexer": "ipython3",
   "version": "3.7.13"
  }
 },
 "nbformat": 4,
 "nbformat_minor": 5
}
