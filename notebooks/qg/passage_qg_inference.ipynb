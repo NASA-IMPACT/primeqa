{
 "cells": [
  {
   "cell_type": "markdown",
   "id": "489bc0df",
   "metadata": {},
   "source": [
    "# TyDI Question Generation: Inference example\n",
    "\n",
    "In this notebook, we will show how to use a pretrained multilingual PassageQG model to generate questions. Given a text snippet, spacy is used to identify noun chunks (named entities) which becomes the answer and an mT5 is used to generate question givent he answer and the text snippet."
   ]
  },
  {
   "cell_type": "markdown",
   "id": "4bbe1173",
   "metadata": {},
   "source": [
    "## Dependencies\n",
    "\n",
    "If not already done, make sure to install PrimeQA with notebooks extras before getting started."
   ]
  },
  {
   "cell_type": "code",
   "execution_count": 2,
   "id": "815cec1c",
   "metadata": {},
   "outputs": [
    {
     "data": {
      "application/vnd.jupyter.widget-view+json": {
       "model_id": "7c31a6fa18eb423f80c956d6133d18d9",
       "version_major": 2,
       "version_minor": 0
      },
      "text/plain": [
       "Downloading https://raw.githubusercontent.com/stanfordnlp/stanza-resources/main/resources_1.4.0.json:   0%|   …"
      ]
     },
     "metadata": {},
     "output_type": "display_data"
    },
    {
     "name": "stderr",
     "output_type": "stream",
     "text": [
      "2022-06-30 08:43:11 INFO: Downloading default packages for language: multilingual (multilingual)...\n",
      "2022-06-30 08:43:11 INFO: File exists: /u/saneem/stanza_resources/multilingual/default.zip\n",
      "2022-06-30 08:43:11 INFO: Finished downloading models and saved to /u/saneem/stanza_resources.\n"
     ]
    }
   ],
   "source": [
    "from primeqa.qg.models.qg_model import QGModel\n",
    "from tabulate import tabulate # only used to visualize table"
   ]
  },
  {
   "cell_type": "markdown",
   "id": "b9f309b8",
   "metadata": {},
   "source": [
    "## Loading pretrained model from huggingface\n",
    "\n",
    "This model was trained using PrimeQA library and uploaded to huggingface hub."
   ]
  },
  {
   "cell_type": "code",
   "execution_count": 4,
   "id": "2a3c5377",
   "metadata": {},
   "outputs": [],
   "source": [
    "model_name = 'ibm/mt5-base-tydi-question-generator'\n",
    "table_qg_model = QGModel(model_name, modality='passage')"
   ]
  },
  {
   "cell_type": "markdown",
   "id": "984e88f0",
   "metadata": {},
   "source": [
    "<br>\n",
    "\n",
    "## Sample instance\n",
    "\n",
    "Passages should be passed a `list` of `str`. We take one English and one Russian text to generate questions."
   ]
  },
  {
   "cell_type": "code",
   "execution_count": 5,
   "id": "18419939",
   "metadata": {},
   "outputs": [],
   "source": [
    "text_list = [\"Sachin tendulkar was an Indian cricketer born in Mumbai. He scored 100\\\n",
    "centuries in his international carrier.\",\n",
    "            \n",
    "\"Симби́рская губе́рния (с 1924 года Ульяновская губерния)\\xa0— административно-территориальная\\\n",
    "единица Российской империи, Российской республики и РСФСР, существовавшая в 1796—1928 годах.\\\n",
    "Губернский город\\xa0— Симбирск (с 1924 года Ульяновск)\"]"
   ]
  },
  {
   "cell_type": "markdown",
   "id": "b002086c",
   "metadata": {},
   "source": [
    "## Generate questions\n",
    "\n",
    "There is one argument to control number of questions to be generated.\n",
    "#### Controls:\n",
    "- `num_questions_per_instance`: Number of questions to generate per table (default=5)"
   ]
  },
  {
   "cell_type": "code",
   "execution_count": 6,
   "id": "40b38a3f",
   "metadata": {},
   "outputs": [
    {
     "name": "stdout",
     "output_type": "stream",
     "text": [
      "Sachin tendulkar was an Indian cricketer born in Mumbai. He scored 100            centuries in his international carrier. en\n",
      "Input language en\n",
      "Симби́рская губе́рния (с 1924 года Ульяновская губерния) — административно-территориальная            единица Российской империи, Российской республики и РСФСР, существовавшая в 1796—1928 годах.            Губернский город — Симбирск (с 1924 года Ульяновск) ru\n",
      "Input language ru\n"
     ]
    },
    {
     "name": "stderr",
     "output_type": "stream",
     "text": [
      "Asking to truncate to max_length but no maximum length is provided and the model has no predefined maximum length. Default to no truncation.\n"
     ]
    },
    {
     "data": {
      "text/plain": [
       "[{'question': 'What country did Sachin tendulkar play?', 'answer': 'Indian'},\n",
       " {'question': 'Who won the last Indian cricket season?',\n",
       "  'answer': 'Sachin tendulkar'},\n",
       " {'question': 'Where was Sachin tendulkar born?', 'answer': 'Mumbai'},\n",
       " {'question': 'Где находится Симбирская губерния?',\n",
       "  'answer': 'Российской республики'},\n",
       " {'question': 'Как называется Симбирская губерния?',\n",
       "  'answer': 'Ульяновская губерния'},\n",
       " {'question': 'Где находится Симбирская губерния?',\n",
       "  'answer': 'Российской империи'}]"
      ]
     },
     "execution_count": 6,
     "metadata": {},
     "output_type": "execute_result"
    }
   ],
   "source": [
    "table_qg_model.generate_questions(text_list, \n",
    "                                num_questions_per_instance = 3)"
   ]
  }
 ],
 "metadata": {
  "interpreter": {
   "hash": "f2837b60cedc613a72d719d2d261dedab01e8683bba6b8605ad579171c0f5b25"
  },
  "kernelspec": {
   "display_name": "Python 3.7.13",
   "language": "python",
   "name": "python3"
  },
  "language_info": {
   "codemirror_mode": {
    "name": "ipython",
    "version": 3
   },
   "file_extension": ".py",
   "mimetype": "text/x-python",
   "name": "python",
   "nbconvert_exporter": "python",
   "pygments_lexer": "ipython3",
   "version": "3.7.13"
  }
 },
 "nbformat": 4,
 "nbformat_minor": 5
}
