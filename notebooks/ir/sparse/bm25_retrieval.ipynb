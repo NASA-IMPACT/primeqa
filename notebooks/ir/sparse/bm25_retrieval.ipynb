{
 "cells": [
  {
   "cell_type": "markdown",
   "metadata": {},
   "source": [
    "# Sparse Retrieval\n",
    "\n",
    "In this notebook, we will see how to run BM25 search."
   ]
  },
  {
   "cell_type": "code",
   "execution_count": 80,
   "metadata": {},
   "outputs": [
    {
     "name": "stdout",
     "output_type": "stream",
     "text": [
      "Requirement already satisfied: install-jdk in /dccstor/bsiyer1/miniconda3/envs/oneqa/lib/python3.8/site-packages (0.3.0)\n"
     ]
    }
   ],
   "source": [
    "# Pyserini requires Java 11\n",
    "# python utility that can be used to download and install a given Java\n",
    "!pip install install-jdk"
   ]
  },
  {
   "cell_type": "code",
   "execution_count": 81,
   "metadata": {},
   "outputs": [],
   "source": [
    "# install of Java JDK 11 into $HOME/.jdk/<VERSION>\n",
    "import jdk\n",
    "\n",
    "jdk.uninstall('11')\n",
    "\n",
    "jdk_dir = jdk.install('11')\n",
    "os.environ[\"JAVA_HOME\"] = jdk_dir"
   ]
  },
  {
   "cell_type": "code",
   "execution_count": 82,
   "metadata": {},
   "outputs": [],
   "source": [
    "from oneqa.ir.sparse.retriever import PyseriniRetriever\n",
    "import pandas as pd"
   ]
  },
  {
   "cell_type": "markdown",
   "metadata": {},
   "source": [
    "Set some parameters\n",
    "- index_path: path to an index \n",
    "- queries: example queries\n",
    "- top_k: number of hits \n",
    "- k1: bm25 parameter to tune impact of term frequency \n",
    "- b: bm25 constant to fine tune the effect of document length   "
   ]
  },
  {
   "cell_type": "code",
   "execution_count": 83,
   "metadata": {},
   "outputs": [],
   "source": [
    "index_path = '../../../tests/resources/sample_wiki_psgs_w100_index'\n",
    "queries = [\n",
    "    'who designed the South African 1961 one-cent postage stamp',\n",
    "    'vitamin e deficiency',\n",
    "    'where is the Presanella located'\n",
    "]\n",
    "top_k=5\n",
    "k1 = 0.9\n",
    "b = 0.4"
   ]
  },
  {
   "cell_type": "code",
   "execution_count": 84,
   "metadata": {},
   "outputs": [],
   "source": [
    "# Instantiate the retriever\n",
    "\n",
    "searcher = PyseriniRetriever(index_path, use_bm25=True, k1=k1, b=b)"
   ]
  },
  {
   "cell_type": "code",
   "execution_count": 85,
   "metadata": {},
   "outputs": [
    {
     "name": "stdout",
     "output_type": "stream",
     "text": [
      "\n",
      "************************\n",
      "QUERY:who designed the South African 1961 one-cent postage stamp\n",
      "   rank      score    doc_id                                      title  \\\n",
      "0     0  17.771099  20076582                             Nerine Desmond   \n",
      "1     1   2.901800  19750546  SOS-Hermann Gmeiner International College   \n",
      "2     2   2.230800  14213975                 Dana (South Korean singer)   \n",
      "3     3   2.161900  14796077                      A Cottage on Dartmoor   \n",
      "4     4   2.125000   9503472                            Nayaks of Kandy   \n",
      "\n",
      "                                                text  \n",
      "0  A South African 1961 one-cent postage stamp ca...  \n",
      "1  SOS-Hermann Gmeiner International College SOS-...  \n",
      "2  Dana (South Korean singer) Hong Sung-mi (born ...  \n",
      "3  date; however the evening turns out awkwardly ...  \n",
      "4  kith and kin. Narenappa Nayaka was destined to...  \n",
      "\n",
      "************************\n",
      "QUERY:vitamin e deficiency\n",
      "   rank   score    doc_id                                    title  \\\n",
      "0     0  9.2066  15415536  Mercury regulation in the United States   \n",
      "1     1  2.5695  18680280      Phonological history of Old English   \n",
      "2     2  1.8086  12687639                 Frederick Norton Manning   \n",
      "3     3  1.7706  11347768                                 APOBEC3C   \n",
      "\n",
      "                                                text  \n",
      "0  Other deficiencies that are observed with a pe...  \n",
      "1  the rest by much less palatalization. Forms in...  \n",
      "2  on 15 October 1868 and immediately reported on...  \n",
      "3  APOBEC3C DNA dC->dU-editing enzyme APOBEC-3C i...  \n",
      "\n",
      "************************\n",
      "QUERY:where is the Presanella located\n",
      "   rank   score    doc_id                                 title  \\\n",
      "0     0  5.2528   8356488                            Presanella   \n",
      "1     1  2.1000   8237529                    Idaho State Police   \n",
      "2     2  1.4756   2492833                            Rakhigarhi   \n",
      "3     3  1.4599  13176993                 Sacro Cuore, Florence   \n",
      "4     4  1.4446  13751330  Saint Anne Byzantine Catholic Church   \n",
      "\n",
      "                                                text  \n",
      "0  Presanella Presanella is a mountain in the Ada...  \n",
      "1  State Police was formed in 1939, when Governor...  \n",
      "2  Rakhigarhi Rakhigarhi, () or Rakhi Garhi (\"Rak...  \n",
      "3  glass window of the Resurrection by Marcello A...  \n",
      "4  Saint Anne Byzantine Catholic Church Saint Ann...  \n"
     ]
    }
   ],
   "source": [
    "# Run queries\n",
    "for query in queries:\n",
    "    hits = searcher.retrieve(query, top_k)\n",
    "    df = pd.DataFrame.from_records(hits, columns=['rank','score','doc_id','title','text'])\n",
    "    print('\\n************************')\n",
    "    print(f'QUERY:{query}')\n",
    "    print(df)\n"
   ]
  }
 ],
 "metadata": {
  "interpreter": {
   "hash": "a9fac2af06ead429517f1008e4b4209682dcd5493b65bc6429a3a9c2b98533d6"
  },
  "kernelspec": {
   "display_name": "Python 3.8.12 64-bit ('oneqa': conda)",
   "name": "python3"
  },
  "language_info": {
   "codemirror_mode": {
    "name": "ipython",
    "version": 3
   },
   "file_extension": ".py",
   "mimetype": "text/x-python",
   "name": "python",
   "nbconvert_exporter": "python",
   "pygments_lexer": "ipython3",
   "version": "3.8.12"
  },
  "orig_nbformat": 4
 },
 "nbformat": 4,
 "nbformat_minor": 2
}
