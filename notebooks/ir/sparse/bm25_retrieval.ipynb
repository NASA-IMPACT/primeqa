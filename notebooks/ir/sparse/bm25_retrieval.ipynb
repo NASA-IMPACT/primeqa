{
 "cells": [
  {
   "cell_type": "markdown",
   "metadata": {},
   "source": [
    "# Sparse Retrieval\n",
    "\n",
    "In this notebook, we will see how to run BM25 search."
   ]
  },
  {
   "cell_type": "code",
   "execution_count": 69,
   "metadata": {},
   "outputs": [
    {
     "name": "stdout",
     "output_type": "stream",
     "text": [
      "Requirement already satisfied: install-jdk in /dccstor/bsiyer1/miniconda3/envs/oneqa/lib/python3.8/site-packages (0.3.0)\n"
     ]
    }
   ],
   "source": [
    "# Pyserini requires Java 11\n",
    "# python utility that can be used to download and install a given Java\n",
    "!pip install install-jdk"
   ]
  },
  {
   "cell_type": "code",
   "execution_count": 75,
   "metadata": {},
   "outputs": [
    {
     "name": "stdout",
     "output_type": "stream",
     "text": [
      "JAVA_HOME /u/bsiyer/.jdk/jdk-11.0.15+10\n"
     ]
    }
   ],
   "source": [
    "# install of Java JDK 11 into $HOME/.jdk/<VERSION>\n",
    "import jdk\n",
    "\n",
    "jdk.uninstall('11')\n",
    "\n",
    "jdk_dir = jdk.install('11')\n",
    "os.environ[\"JAVA_HOME\"] = jdk_dir"
   ]
  },
  {
   "cell_type": "code",
   "execution_count": null,
   "metadata": {},
   "outputs": [],
   "source": [
    "from oneqa.ir.sparse.retriever import PyseriniRetriever\n",
    "import pandas as pd"
   ]
  },
  {
   "cell_type": "markdown",
   "metadata": {},
   "source": [
    "Set some parameters\n",
    "- index_path: path to an index \n",
    "- queries: example queries\n",
    "- top_k: number of hits \n",
    "- k1: bm25 parameter to tune impact of term frequency \n",
    "- b: bm25 constant to fine tune the effect of document length   "
   ]
  },
  {
   "cell_type": "code",
   "execution_count": null,
   "metadata": {},
   "outputs": [],
   "source": [
    "index_path = '../../../tests/resources/sample_wiki_psgs_w100_index'\n",
    "queries = [\n",
    "    'who designed the South African 1961 one-cent postage stamp',\n",
    "    'vitamin e deficiency',\n",
    "    'where is the Presanella located'\n",
    "]\n",
    "top_k=5\n",
    "k1 = 0.9\n",
    "b = 0.4"
   ]
  },
  {
   "cell_type": "code",
   "execution_count": null,
   "metadata": {},
   "outputs": [],
   "source": [
    "# Instantiate the retriever\n",
    "\n",
    "searcher = PyseriniRetriever(index_path, use_bm25=True, k1=k1, b=b)"
   ]
  },
  {
   "cell_type": "code",
   "execution_count": null,
   "metadata": {},
   "outputs": [],
   "source": [
    "# Run queries\n",
    "for query in queries:\n",
    "    hits = searcher.retrieve(query, top_k)\n",
    "    df = pd.DataFrame.from_records(hits, columns=['rank','score','doc_id','title','text'])\n",
    "    df_text = pd.DataFrame.from_records(hits, columns=['rank','text'])\n",
    "    print('\\n************************')\n",
    "    print(f'QUERY:{query}')\n",
    "    print(df)\n",
    "    #print(df_text)\n"
   ]
  }
 ],
 "metadata": {
  "interpreter": {
   "hash": "a9fac2af06ead429517f1008e4b4209682dcd5493b65bc6429a3a9c2b98533d6"
  },
  "kernelspec": {
   "display_name": "Python 3.8.12 64-bit ('oneqa': conda)",
   "name": "python3"
  },
  "language_info": {
   "codemirror_mode": {
    "name": "ipython",
    "version": 3
   },
   "file_extension": ".py",
   "mimetype": "text/x-python",
   "name": "python",
   "nbconvert_exporter": "python",
   "pygments_lexer": "ipython3",
   "version": "3.8.12"
  },
  "orig_nbformat": 4
 },
 "nbformat": 4,
 "nbformat_minor": 2
}
