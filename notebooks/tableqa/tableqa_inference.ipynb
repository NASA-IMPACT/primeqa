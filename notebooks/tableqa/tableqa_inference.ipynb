{
 "cells": [
  {
   "cell_type": "markdown",
   "metadata": {},
   "source": [
    "Tapas Based Table Question Answering"
   ]
  },
  {
   "cell_type": "code",
   "execution_count": 1,
   "metadata": {},
   "outputs": [
    {
     "name": "stderr",
     "output_type": "stream",
     "text": [
      "/dccstor/cssblr/vishwajeet/git/qg-env/lib/python3.8/site-packages/tqdm/auto.py:22: TqdmWarning: IProgress not found. Please update jupyter and ipywidgets. See https://ipywidgets.readthedocs.io/en/stable/user_install.html\n",
      "  from .autonotebook import tqdm as notebook_tqdm\n"
     ]
    }
   ],
   "source": [
    "from primeqa.tableqa.models.tableqa_model import TableQAModel\n",
    "from transformers import TapasConfig\n",
    "import pandas as pd\n",
    "# Load the pre-trained tapas table-qa model\n",
    "model = TableQAModel(\"PrimeQA/tapas-based-tableqa-wikisql-lookup\")"
   ]
  },
  {
   "cell_type": "code",
   "execution_count": 2,
   "metadata": {},
   "outputs": [
    {
     "name": "stdout",
     "output_type": "stream",
     "text": [
      "               Actors Number of movies\n",
      "0           Brad Pitt               87\n",
      "1  Leonardo Di Caprio               53\n",
      "2      George Clooney               69\n"
     ]
    }
   ],
   "source": [
    "# Load the Table \n",
    "data = {\"Actors\": [\"Brad Pitt\", \"Leonardo Di Caprio\",\n",
    "                        \"George Clooney\"], \"Number of movies\": [\"87\", \"53\", \"69\"]}\n",
    "print(pd.DataFrame.from_dict(data))"
   ]
  },
  {
   "cell_type": "code",
   "execution_count": 3,
   "metadata": {},
   "outputs": [
    {
     "name": "stdout",
     "output_type": "stream",
     "text": [
      "TableQuestionAnsweringOutput(loss=None, logits=tensor([[-10002.2510, -10002.2510, -10002.2510,  ..., -10002.2510,\n",
      "         -10002.2510, -10002.2510],\n",
      "        [-10003.5996, -10003.5996, -10003.5996,  ..., -10003.5996,\n",
      "         -10003.5996, -10003.5996]], grad_fn=<ViewBackward0>), logits_aggregation=None, hidden_states=None, attentions=None)\n"
     ]
    },
    {
     "ename": "ValueError",
     "evalue": "Invalid call for scalar access (getting)!",
     "output_type": "error",
     "traceback": [
      "\u001b[0;31m---------------------------------------------------------------------------\u001b[0m",
      "\u001b[0;31mValueError\u001b[0m                                Traceback (most recent call last)",
      "\u001b[1;32m/dccstor/cssblr/vishwajeet/git/OneQA/notebooks/tableqa/tableqa_inference.ipynb Cell 4'\u001b[0m in \u001b[0;36m<cell line: 3>\u001b[0;34m()\u001b[0m\n\u001b[1;32m      <a href='vscode-notebook-cell://ssh-remote%2Bcccxl015.pok.ibm.com/dccstor/cssblr/vishwajeet/git/OneQA/notebooks/tableqa/tableqa_inference.ipynb#ch0000003vscode-remote?line=0'>1</a>\u001b[0m \u001b[39m#Queries list:\u001b[39;00m\n\u001b[1;32m      <a href='vscode-notebook-cell://ssh-remote%2Bcccxl015.pok.ibm.com/dccstor/cssblr/vishwajeet/git/OneQA/notebooks/tableqa/tableqa_inference.ipynb#ch0000003vscode-remote?line=1'>2</a>\u001b[0m queries \u001b[39m=\u001b[39m [\u001b[39m\"\u001b[39m\u001b[39mHow many movies has George Clooney played in?\u001b[39m\u001b[39m\"\u001b[39m, \u001b[39m\"\u001b[39m\u001b[39mBrad Pitt acted in how many movies\u001b[39m\u001b[39m\"\u001b[39m]\n\u001b[0;32m----> <a href='vscode-notebook-cell://ssh-remote%2Bcccxl015.pok.ibm.com/dccstor/cssblr/vishwajeet/git/OneQA/notebooks/tableqa/tableqa_inference.ipynb#ch0000003vscode-remote?line=2'>3</a>\u001b[0m \u001b[39mprint\u001b[39m(model\u001b[39m.\u001b[39;49mpredict_from_dict(data,queries))\n",
      "File \u001b[0;32m/dccstor/cssblr/vishwajeet/git/qg-env/lib/python3.8/site-packages/primeqa/tableqa/models/tableqa_model.py:48\u001b[0m, in \u001b[0;36mTableQAModel.predict_from_dict\u001b[0;34m(self, data_dict, queries_list)\u001b[0m\n\u001b[1;32m     <a href='file:///dccstor/cssblr/vishwajeet/git/qg-env/lib/python3.8/site-packages/primeqa/tableqa/models/tableqa_model.py?line=45'>46</a>\u001b[0m         cell_values \u001b[39m=\u001b[39m []\n\u001b[1;32m     <a href='file:///dccstor/cssblr/vishwajeet/git/qg-env/lib/python3.8/site-packages/primeqa/tableqa/models/tableqa_model.py?line=46'>47</a>\u001b[0m         \u001b[39mfor\u001b[39;00m coordinate \u001b[39min\u001b[39;00m coordinates:\n\u001b[0;32m---> <a href='file:///dccstor/cssblr/vishwajeet/git/qg-env/lib/python3.8/site-packages/primeqa/tableqa/models/tableqa_model.py?line=47'>48</a>\u001b[0m             cell_values\u001b[39m.\u001b[39mappend(table\u001b[39m.\u001b[39;49miat[coordinate])\n\u001b[1;32m     <a href='file:///dccstor/cssblr/vishwajeet/git/qg-env/lib/python3.8/site-packages/primeqa/tableqa/models/tableqa_model.py?line=48'>49</a>\u001b[0m         answers\u001b[39m.\u001b[39mappend(\u001b[39m\"\u001b[39m\u001b[39m, \u001b[39m\u001b[39m\"\u001b[39m\u001b[39m.\u001b[39mjoin(cell_values))\n\u001b[1;32m     <a href='file:///dccstor/cssblr/vishwajeet/git/qg-env/lib/python3.8/site-packages/primeqa/tableqa/models/tableqa_model.py?line=49'>50</a>\u001b[0m query_answer_dict \u001b[39m=\u001b[39m {}\n",
      "File \u001b[0;32m/dccstor/cssblr/vishwajeet/git/qg-env/lib/python3.8/site-packages/pandas/core/indexing.py:2219\u001b[0m, in \u001b[0;36m_ScalarAccessIndexer.__getitem__\u001b[0;34m(self, key)\u001b[0m\n\u001b[1;32m   <a href='file:///dccstor/cssblr/vishwajeet/git/qg-env/lib/python3.8/site-packages/pandas/core/indexing.py?line=2216'>2217</a>\u001b[0m         key \u001b[39m=\u001b[39m (key,)\n\u001b[1;32m   <a href='file:///dccstor/cssblr/vishwajeet/git/qg-env/lib/python3.8/site-packages/pandas/core/indexing.py?line=2217'>2218</a>\u001b[0m     \u001b[39melse\u001b[39;00m:\n\u001b[0;32m-> <a href='file:///dccstor/cssblr/vishwajeet/git/qg-env/lib/python3.8/site-packages/pandas/core/indexing.py?line=2218'>2219</a>\u001b[0m         \u001b[39mraise\u001b[39;00m \u001b[39mValueError\u001b[39;00m(\u001b[39m\"\u001b[39m\u001b[39mInvalid call for scalar access (getting)!\u001b[39m\u001b[39m\"\u001b[39m)\n\u001b[1;32m   <a href='file:///dccstor/cssblr/vishwajeet/git/qg-env/lib/python3.8/site-packages/pandas/core/indexing.py?line=2220'>2221</a>\u001b[0m key \u001b[39m=\u001b[39m \u001b[39mself\u001b[39m\u001b[39m.\u001b[39m_convert_key(key)\n\u001b[1;32m   <a href='file:///dccstor/cssblr/vishwajeet/git/qg-env/lib/python3.8/site-packages/pandas/core/indexing.py?line=2221'>2222</a>\u001b[0m \u001b[39mreturn\u001b[39;00m \u001b[39mself\u001b[39m\u001b[39m.\u001b[39mobj\u001b[39m.\u001b[39m_get_value(\u001b[39m*\u001b[39mkey, takeable\u001b[39m=\u001b[39m\u001b[39mself\u001b[39m\u001b[39m.\u001b[39m_takeable)\n",
      "\u001b[0;31mValueError\u001b[0m: Invalid call for scalar access (getting)!"
     ]
    }
   ],
   "source": [
    "#Queries list:\n",
    "queries = [\"How many movies has George Clooney played in?\", \"Brad Pitt acted in how many movies\"]\n",
    "print(model.predict_from_dict(data,queries))\n"
   ]
  },
  {
   "cell_type": "code",
   "execution_count": 1,
   "metadata": {},
   "outputs": [
    {
     "data": {
      "text/plain": [
       "166"
      ]
     },
     "execution_count": 1,
     "metadata": {},
     "output_type": "execute_result"
    }
   ],
   "source": [
    "import csv\n",
    "import ast\n",
    "\n",
    "count=0\n",
    "out_file = open(\"/dccstor/cssblr/vishwajeet/git/OneQA/primeqa/tableqa/preprocessors/data/wikisql/train_cleaned.tsv\",\"wt\")\n",
    "tsv_writer = csv.writer(out_file, delimiter='\\t')\n",
    "with open(\"/dccstor/cssblr/vishwajeet/git/OneQA/primeqa/tableqa/preprocessors/data/wikisql/train_lookup_full.tsv\") as file:\n",
    "    tsv_file = csv.reader(file, delimiter=\"\\t\")\n",
    "    for i,line in enumerate(tsv_file):\n",
    "        if i==0:\n",
    "            tsv_writer.writerow(line)\n",
    "            continue\n",
    "        coordinates = ast.literal_eval(str(line[3]))[0]\n",
    "        if coordinates[0]>50:\n",
    "            count+=1\n",
    "        else:\n",
    "            tsv_writer.writerow(line)\n",
    "        \n",
    "        \n",
    "\n",
    "        \n",
    "count\n",
    "\n"
   ]
  }
 ],
 "metadata": {
  "interpreter": {
   "hash": "b57247838e45524a7c2da458567c06c31ec6a27bd6675f533df08cc637b8b43a"
  },
  "kernelspec": {
   "display_name": "Python 3.6.10",
   "language": "python",
   "name": "python3"
  },
  "language_info": {
   "codemirror_mode": {
    "name": "ipython",
    "version": 3
   },
   "file_extension": ".py",
   "mimetype": "text/x-python",
   "name": "python",
   "nbconvert_exporter": "python",
   "pygments_lexer": "ipython3",
   "version": "3.8.13"
  },
  "orig_nbformat": 4
 },
 "nbformat": 4,
 "nbformat_minor": 2
}
